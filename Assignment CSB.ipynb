{
 "cells": [
  {
   "cell_type": "markdown",
   "metadata": {},
   "source": [
    "# CustomerSuccessBox"
   ]
  },
  {
   "cell_type": "markdown",
   "metadata": {},
   "source": [
    "Here by starting the assignment, by forming differnt models from decision trees, Random Classsifier and going towards bagging and boosting to over come the overfitting scenario as we can see by the accuracy scores below."
   ]
  },
  {
   "cell_type": "code",
   "execution_count": 3,
   "metadata": {},
   "outputs": [],
   "source": [
    "import pandas as pd\n",
    "import numpy as np\n",
    "import matplotlib.pyplot as plt\n",
    "from sklearn.tree import DecisionTreeClassifier\n",
    "from sklearn.ensemble import RandomForestClassifier\n",
    "from sklearn.ensemble import BaggingClassifier\n",
    "from sklearn.ensemble import AdaBoostClassifier\n",
    "from xgboost import XGBClassifier\n",
    "\n",
    "\n",
    "train = pd.read_csv(\"C:\\\\Users\\\\jzsim\\\\Downloads\\\\Train_Set.csv\")\n",
    "test = pd.read_csv(\"C:\\\\Users\\\\jzsim\\\\Downloads\\\\Test_Set.csv\")\n",
    "#train = train.drop_duplicates(subset='account_id', keep=\"last\")\n",
    "trainX = train.iloc[:,2:64]\n",
    "trainY = train.iloc[:,64]\n",
    "testX = test.iloc[:,2:64]\n",
    "testY = test.iloc[:,64]"
   ]
  },
  {
   "cell_type": "code",
   "execution_count": 11,
   "metadata": {},
   "outputs": [
    {
     "name": "stdout",
     "output_type": "stream",
     "text": [
      "0.9937879810938555\n",
      "0.9955015430753404\n"
     ]
    }
   ],
   "source": [
    "#decision tree\n",
    "dt = DecisionTreeClassifier() #storing the classifer in dt\n",
    "\n",
    "dt.fit(trainX,trainY) #fitting te model \n",
    "\n",
    "dttest=dt.score(testX,testY) #checking the score like accuracy\n",
    "print(dttest)\n",
    "dttrain=dt.score(trainX,trainY)\n",
    "print(dttrain)\n",
    "#so our model is overfitting "
   ]
  },
  {
   "cell_type": "code",
   "execution_count": 22,
   "metadata": {},
   "outputs": [
    {
     "name": "stdout",
     "output_type": "stream",
     "text": [
      "0.9946320054017556\n",
      "0.9955015430753404\n"
     ]
    }
   ],
   "source": [
    "#Random Forest clssifer: it is a ensemble of Decision tree \n",
    "rf = RandomForestClassifier(n_estimators=62) \n",
    "rf.fit(trainX,trainY) #fitting the random forest model \n",
    "\n",
    "rftest=rf.score(testX,testY) #the accuracy of the test model \n",
    "print(rftest)\n",
    "rftrain=rf.score(trainX,trainY) #the accuracy of the train model \n",
    "print(rftrain)"
   ]
  },
  {
   "cell_type": "code",
   "execution_count": 23,
   "metadata": {},
   "outputs": [
    {
     "name": "stdout",
     "output_type": "stream",
     "text": [
      "0.9933828494260635\n",
      "0.995161543424058\n"
     ]
    }
   ],
   "source": [
    "#Bagging - Gradient \n",
    "bg = BaggingClassifier(DecisionTreeClassifier(), max_samples=0.5,max_features=1.0, n_estimators=62)\n",
    "bg.fit(trainX,trainY) #fitting the model \n",
    "\n",
    "bgtest=bg.score(testX,testY) #test accuracy\n",
    "print(bgtest)\n",
    "bgtrain=bg.score(trainX,trainY) #train accuracy \n",
    "print(bgtrain)"
   ]
  },
  {
   "cell_type": "code",
   "execution_count": 16,
   "metadata": {},
   "outputs": [
    {
     "name": "stdout",
     "output_type": "stream",
     "text": [
      "0.9942606347062796\n",
      "0.9955015430753404\n"
     ]
    }
   ],
   "source": [
    "#Ada boosting \n",
    "ada = AdaBoostClassifier(DecisionTreeClassifier(),n_estimators=10,learning_rate=1)\n",
    "ada.fit(trainX,trainY)\n",
    "\n",
    "adatest=ada.score(testX,testY)\n",
    "print(adatest)\n",
    "adatrain=ada.score(trainX,trainY)\n",
    "print(adatrain)"
   ]
  },
  {
   "cell_type": "markdown",
   "metadata": {},
   "source": [
    "Now building a model with Xg Boost to check the performance and Precision and recall values also comaring the original values and predicted values"
   ]
  },
  {
   "cell_type": "code",
   "execution_count": 18,
   "metadata": {},
   "outputs": [
    {
     "data": {
      "image/png": "[encoded data removed]",
      "text/plain": [
       "<Figure size 432x288 with 1 Axes>"
      ]
     },
     "metadata": {
      "needs_background": "light"
     },
     "output_type": "display_data"
    }
   ],
   "source": [
    "model = XGBClassifier()\n",
    "model.fit(trainX, trainY)\n",
    "pred_test = model.predict(testX)\n",
    "\n",
    "plt.scatter(range(29620),pred_test,c='r')\n",
    "plt.scatter(range(29620),testY,c='g')\n",
    "plt.show()\n"
   ]
  },
  {
   "cell_type": "code",
   "execution_count": 19,
   "metadata": {},
   "outputs": [
    {
     "data": {
      "image/png": "[encoded data removed]",
      "text/plain": [
       "<Figure size 432x288 with 1 Axes>"
      ]
     },
     "metadata": {
      "needs_background": "light"
     },
     "output_type": "display_data"
    }
   ],
   "source": [
    "from sklearn.metrics import precision_recall_curve\n",
    "precision, recall, _ = precision_recall_curve(testY, pred_test)\n",
    "plt.plot(recall, precision, marker='.', label='NN')\n",
    "plt.xlabel('Recall')\n",
    "plt.ylabel('Precision')\n",
    "plt.show()"
   ]
  },
  {
   "cell_type": "code",
   "execution_count": 21,
   "metadata": {},
   "outputs": [
    {
     "name": "stdout",
     "output_type": "stream",
     "text": [
      "0.7865853658536586\n",
      "0.4657039711191336\n"
     ]
    }
   ],
   "source": [
    "from sklearn.metrics import precision_score\n",
    "from sklearn.metrics import recall_score\n",
    "\n",
    "precision = precision_score(testY, pred_test)\n",
    "print(precision)\n",
    "recall = recall_score(testY, pred_test)\n",
    "print(recall)"
   ]
  },
  {
   "cell_type": "markdown",
   "metadata": {},
   "source": [
    "As we can see above we got the precision values from 0.786 and recall values 0.465.\n",
    "We can clearly see that the data we are using is very vast and is making an impackon the accuracy and different obtained values after the model is build.\n"
   ]
  },
  {
   "cell_type": "markdown",
   "metadata": {},
   "source": [
    "Also we can work on the data or we work on building complex models for the same."
   ]
  },
  {
   "cell_type": "markdown",
   "metadata": {},
   "source": [
    "I'll be going to build a Neural Network model for the same."
   ]
  },
  {
   "cell_type": "code",
   "execution_count": 24,
   "metadata": {},
   "outputs": [],
   "source": [
    "import pandas as pd\n",
    "import numpy as np\n",
    "from keras.models import Sequential\n",
    "from keras.layers import Dense\n",
    "import matplotlib.pyplot as plt\n",
    "\n",
    "train = pd.read_csv(\"C:\\\\Users\\\\jzsim\\\\Downloads\\\\Train_Set.csv\")\n",
    "test = pd.read_csv(\"C:\\\\Users\\\\jzsim\\\\Downloads\\\\Test_Set.csv\")\n",
    "#train = train.drop_duplicates(subset='account_id', keep=\"last\")\n",
    "trainX = train.iloc[:,2:64]\n",
    "trainY = train.iloc[:,64]\n",
    "testX = test.iloc[:,2:64]\n",
    "testY = test.iloc[:,64]"
   ]
  },
  {
   "cell_type": "code",
   "execution_count": 29,
   "metadata": {},
   "outputs": [
    {
     "name": "stdout",
     "output_type": "stream",
     "text": [
      "Epoch 1/100\n",
      "114706/114706 [==============================] - 2s 17us/step - loss: 0.0487 - accuracy: 0.9847\n",
      "Epoch 2/100\n",
      "114706/114706 [==============================] - 2s 15us/step - loss: 0.0120 - accuracy: 0.9897\n",
      "Epoch 3/100\n",
      "114706/114706 [==============================] - 2s 15us/step - loss: 0.0094 - accuracy: 0.9899\n",
      "Epoch 4/100\n",
      "114706/114706 [==============================] - 2s 15us/step - loss: 0.0081 - accuracy: 0.9911\n",
      "Epoch 5/100\n",
      "114706/114706 [==============================] - 2s 15us/step - loss: 0.0077 - accuracy: 0.9921\n",
      "Epoch 6/100\n",
      "114706/114706 [==============================] - 2s 15us/step - loss: 0.0075 - accuracy: 0.9921\n",
      "Epoch 7/100\n",
      "114706/114706 [==============================] - 2s 15us/step - loss: 0.0090 - accuracy: 0.9922\n",
      "Epoch 8/100\n",
      "114706/114706 [==============================] - 2s 15us/step - loss: 0.0078 - accuracy: 0.9918\n",
      "Epoch 9/100\n",
      "114706/114706 [==============================] - 2s 15us/step - loss: 0.0070 - accuracy: 0.9923\n",
      "Epoch 10/100\n",
      "114706/114706 [==============================] - 2s 15us/step - loss: 0.0069 - accuracy: 0.9924\n",
      "Epoch 11/100\n",
      "114706/114706 [==============================] - 2s 15us/step - loss: 0.0067 - accuracy: 0.9925\n",
      "Epoch 12/100\n",
      "114706/114706 [==============================] - 2s 16us/step - loss: 0.0066 - accuracy: 0.9926\n",
      "Epoch 13/100\n",
      "114706/114706 [==============================] - 2s 18us/step - loss: 0.0066 - accuracy: 0.9927\n",
      "Epoch 14/100\n",
      "114706/114706 [==============================] - 2s 18us/step - loss: 0.0068 - accuracy: 0.9927\n",
      "Epoch 15/100\n",
      "114706/114706 [==============================] - 2s 17us/step - loss: 0.0065 - accuracy: 0.9927\n",
      "Epoch 16/100\n",
      "114706/114706 [==============================] - 2s 17us/step - loss: 0.0064 - accuracy: 0.9927\n",
      "Epoch 17/100\n",
      "114706/114706 [==============================] - 2s 16us/step - loss: 0.0062 - accuracy: 0.9931\n",
      "Epoch 18/100\n",
      "114706/114706 [==============================] - 2s 16us/step - loss: 0.0061 - accuracy: 0.9931\n",
      "Epoch 19/100\n",
      "114706/114706 [==============================] - 2s 16us/step - loss: 0.0060 - accuracy: 0.9933\n",
      "Epoch 20/100\n",
      "114706/114706 [==============================] - 2s 16us/step - loss: 0.0059 - accuracy: 0.9933\n",
      "Epoch 21/100\n",
      "114706/114706 [==============================] - 2s 16us/step - loss: 0.0059 - accuracy: 0.9935\n",
      "Epoch 22/100\n",
      "114706/114706 [==============================] - 2s 16us/step - loss: 0.0058 - accuracy: 0.9936\n",
      "Epoch 23/100\n",
      "114706/114706 [==============================] - 2s 16us/step - loss: 0.0058 - accuracy: 0.9936\n",
      "Epoch 24/100\n",
      "114706/114706 [==============================] - 2s 16us/step - loss: 0.0057 - accuracy: 0.9936\n",
      "Epoch 25/100\n",
      "114706/114706 [==============================] - 2s 16us/step - loss: 0.0057 - accuracy: 0.9938\n",
      "Epoch 26/100\n",
      "114706/114706 [==============================] - 2s 16us/step - loss: 0.0056 - accuracy: 0.9938\n",
      "Epoch 27/100\n",
      "114706/114706 [==============================] - 2s 16us/step - loss: 0.0057 - accuracy: 0.9938\n",
      "Epoch 28/100\n",
      "114706/114706 [==============================] - 2s 16us/step - loss: 0.0056 - accuracy: 0.9938\n",
      "Epoch 29/100\n",
      "114706/114706 [==============================] - 2s 16us/step - loss: 0.0056 - accuracy: 0.9939\n",
      "Epoch 30/100\n",
      "114706/114706 [==============================] - 2s 17us/step - loss: 0.0055 - accuracy: 0.9938\n",
      "Epoch 31/100\n",
      "114706/114706 [==============================] - 2s 16us/step - loss: 0.0055 - accuracy: 0.9939\n",
      "Epoch 32/100\n",
      "114706/114706 [==============================] - 2s 16us/step - loss: 0.0055 - accuracy: 0.9941\n",
      "Epoch 33/100\n",
      "114706/114706 [==============================] - 2s 16us/step - loss: 0.0055 - accuracy: 0.9940\n",
      "Epoch 34/100\n",
      "114706/114706 [==============================] - 2s 16us/step - loss: 0.0055 - accuracy: 0.9940\n",
      "Epoch 35/100\n",
      "114706/114706 [==============================] - 2s 16us/step - loss: 0.0056 - accuracy: 0.9939\n",
      "Epoch 36/100\n",
      "114706/114706 [==============================] - 2s 16us/step - loss: 0.0055 - accuracy: 0.9940\n",
      "Epoch 37/100\n",
      "114706/114706 [==============================] - 2s 16us/step - loss: 0.0054 - accuracy: 0.9940\n",
      "Epoch 38/100\n",
      "114706/114706 [==============================] - 2s 16us/step - loss: 0.0054 - accuracy: 0.9941\n",
      "Epoch 39/100\n",
      "114706/114706 [==============================] - 2s 16us/step - loss: 0.0054 - accuracy: 0.9942\n",
      "Epoch 40/100\n",
      "114706/114706 [==============================] - 2s 16us/step - loss: 0.0053 - accuracy: 0.9941\n",
      "Epoch 41/100\n",
      "114706/114706 [==============================] - 2s 16us/step - loss: 0.0054 - accuracy: 0.9942\n",
      "Epoch 42/100\n",
      "114706/114706 [==============================] - 2s 16us/step - loss: 0.0054 - accuracy: 0.9941\n",
      "Epoch 43/100\n",
      "114706/114706 [==============================] - 2s 16us/step - loss: 0.0053 - accuracy: 0.9942\n",
      "Epoch 44/100\n",
      "114706/114706 [==============================] - 2s 16us/step - loss: 0.0053 - accuracy: 0.9942\n",
      "Epoch 45/100\n",
      "114706/114706 [==============================] - 2s 17us/step - loss: 0.0053 - accuracy: 0.9943\n",
      "Epoch 46/100\n",
      "114706/114706 [==============================] - 2s 16us/step - loss: 0.0053 - accuracy: 0.9942\n",
      "Epoch 47/100\n",
      "114706/114706 [==============================] - 2s 17us/step - loss: 0.0053 - accuracy: 0.9942\n",
      "Epoch 48/100\n",
      "114706/114706 [==============================] - 2s 17us/step - loss: 0.0053 - accuracy: 0.9942\n",
      "Epoch 49/100\n",
      "114706/114706 [==============================] - 2s 17us/step - loss: 0.0053 - accuracy: 0.9942\n",
      "Epoch 50/100\n",
      "114706/114706 [==============================] - 2s 16us/step - loss: 0.0053 - accuracy: 0.9942\n",
      "Epoch 51/100\n",
      "114706/114706 [==============================] - 2s 17us/step - loss: 0.0053 - accuracy: 0.9942\n",
      "Epoch 52/100\n",
      "114706/114706 [==============================] - 2s 17us/step - loss: 0.0052 - accuracy: 0.9943\n",
      "Epoch 53/100\n",
      "114706/114706 [==============================] - 2s 17us/step - loss: 0.0052 - accuracy: 0.9944\n",
      "Epoch 54/100\n",
      "114706/114706 [==============================] - 2s 17us/step - loss: 0.0052 - accuracy: 0.9943\n",
      "Epoch 55/100\n",
      "114706/114706 [==============================] - 2s 17us/step - loss: 0.0052 - accuracy: 0.9943\n",
      "Epoch 56/100\n",
      "114706/114706 [==============================] - 2s 16us/step - loss: 0.0053 - accuracy: 0.9943\n",
      "Epoch 57/100\n",
      "114706/114706 [==============================] - 2s 16us/step - loss: 0.0052 - accuracy: 0.9943\n",
      "Epoch 58/100\n",
      "114706/114706 [==============================] - 2s 16us/step - loss: 0.0052 - accuracy: 0.9943\n",
      "Epoch 59/100\n",
      "114706/114706 [==============================] - 2s 16us/step - loss: 0.0051 - accuracy: 0.9945\n",
      "Epoch 60/100\n",
      "114706/114706 [==============================] - 2s 16us/step - loss: 0.0052 - accuracy: 0.9944\n",
      "Epoch 61/100\n",
      "114706/114706 [==============================] - 2s 16us/step - loss: 0.0052 - accuracy: 0.9944\n",
      "Epoch 62/100\n",
      "114706/114706 [==============================] - 2s 16us/step - loss: 0.0052 - accuracy: 0.9944\n",
      "Epoch 63/100\n",
      "114706/114706 [==============================] - 2s 16us/step - loss: 0.0051 - accuracy: 0.9944\n",
      "Epoch 64/100\n",
      "114706/114706 [==============================] - 2s 16us/step - loss: 0.0051 - accuracy: 0.9944\n",
      "Epoch 65/100\n",
      "114706/114706 [==============================] - 2s 16us/step - loss: 0.0052 - accuracy: 0.9944\n",
      "Epoch 66/100\n",
      "114706/114706 [==============================] - 2s 16us/step - loss: 0.0051 - accuracy: 0.9944\n",
      "Epoch 67/100\n",
      "114706/114706 [==============================] - 2s 16us/step - loss: 0.0051 - accuracy: 0.9944\n",
      "Epoch 68/100\n",
      "114706/114706 [==============================] - 2s 16us/step - loss: 0.0051 - accuracy: 0.9945\n",
      "Epoch 69/100\n",
      "114706/114706 [==============================] - 2s 16us/step - loss: 0.0050 - accuracy: 0.9946\n",
      "Epoch 70/100\n",
      "114706/114706 [==============================] - 2s 16us/step - loss: 0.0050 - accuracy: 0.9946\n",
      "Epoch 71/100\n",
      "114706/114706 [==============================] - 2s 16us/step - loss: 0.0050 - accuracy: 0.9945\n",
      "Epoch 72/100\n",
      "114706/114706 [==============================] - 2s 16us/step - loss: 0.0050 - accuracy: 0.9945\n",
      "Epoch 73/100\n",
      "114706/114706 [==============================] - 2s 16us/step - loss: 0.0050 - accuracy: 0.9946\n",
      "Epoch 74/100\n",
      "114706/114706 [==============================] - 2s 16us/step - loss: 0.0050 - accuracy: 0.9945\n",
      "Epoch 75/100\n",
      "114706/114706 [==============================] - 2s 16us/step - loss: 0.0050 - accuracy: 0.9945\n",
      "Epoch 76/100\n",
      "114706/114706 [==============================] - 2s 16us/step - loss: 0.0051 - accuracy: 0.9946\n",
      "Epoch 77/100\n",
      "114706/114706 [==============================] - 2s 16us/step - loss: 0.0051 - accuracy: 0.9945\n",
      "Epoch 78/100\n",
      "114706/114706 [==============================] - 2s 17us/step - loss: 0.0050 - accuracy: 0.9945\n",
      "Epoch 79/100\n",
      "114706/114706 [==============================] - 2s 17us/step - loss: 0.0050 - accuracy: 0.9946\n",
      "Epoch 80/100\n",
      "114706/114706 [==============================] - 2s 20us/step - loss: 0.0050 - accuracy: 0.9946\n",
      "Epoch 81/100\n",
      "114706/114706 [==============================] - 2s 19us/step - loss: 0.0050 - accuracy: 0.9947\n",
      "Epoch 82/100\n",
      "114706/114706 [==============================] - 3s 23us/step - loss: 0.0049 - accuracy: 0.9947\n",
      "Epoch 83/100\n",
      "114706/114706 [==============================] - 2s 20us/step - loss: 0.0049 - accuracy: 0.9946\n",
      "Epoch 84/100\n",
      "114706/114706 [==============================] - 2s 17us/step - loss: 0.0049 - accuracy: 0.9947\n",
      "Epoch 85/100\n",
      "114706/114706 [==============================] - 2s 18us/step - loss: 0.0049 - accuracy: 0.9947\n",
      "Epoch 86/100\n",
      "114706/114706 [==============================] - 2s 17us/step - loss: 0.0049 - accuracy: 0.9947\n",
      "Epoch 87/100\n",
      "114706/114706 [==============================] - 2s 16us/step - loss: 0.0049 - accuracy: 0.9947\n",
      "Epoch 88/100\n",
      "114706/114706 [==============================] - 2s 17us/step - loss: 0.0049 - accuracy: 0.9947\n",
      "Epoch 89/100\n",
      "114706/114706 [==============================] - 2s 19us/step - loss: 0.0049 - accuracy: 0.9947\n",
      "Epoch 90/100\n",
      "114706/114706 [==============================] - 2s 17us/step - loss: 0.0049 - accuracy: 0.9948\n",
      "Epoch 91/100\n",
      "114706/114706 [==============================] - 2s 19us/step - loss: 0.0049 - accuracy: 0.9946\n",
      "Epoch 92/100\n",
      "114706/114706 [==============================] - 2s 20us/step - loss: 0.0049 - accuracy: 0.9947\n",
      "Epoch 93/100\n",
      "114706/114706 [==============================] - 2s 18us/step - loss: 0.0049 - accuracy: 0.9947\n",
      "Epoch 94/100\n",
      "114706/114706 [==============================] - 2s 17us/step - loss: 0.0048 - accuracy: 0.9948\n",
      "Epoch 95/100\n",
      "114706/114706 [==============================] - 2s 16us/step - loss: 0.0048 - accuracy: 0.9948\n",
      "Epoch 96/100\n",
      "114706/114706 [==============================] - 2s 18us/step - loss: 0.0048 - accuracy: 0.9948\n",
      "Epoch 97/100\n",
      "114706/114706 [==============================] - 2s 18us/step - loss: 0.0048 - accuracy: 0.9948\n",
      "Epoch 98/100\n",
      "114706/114706 [==============================] - 2s 17us/step - loss: 0.0048 - accuracy: 0.9948\n",
      "Epoch 99/100\n",
      "114706/114706 [==============================] - 2s 19us/step - loss: 0.0049 - accuracy: 0.9948\n",
      "Epoch 100/100\n",
      "114706/114706 [==============================] - 2s 19us/step - loss: 0.0049 - accuracy: 0.9947\n"
     ]
    }
   ],
   "source": [
    "cont_model = Sequential()\n",
    "cont_model.add(Dense(500,input_dim=62,activation=\"relu\"))\n",
    "cont_model.add(Dense(256,activation=\"relu\"))\n",
    "cont_model.add(Dense(128,activation=\"relu\"))\n",
    "cont_model.add(Dense(256,activation=\"relu\"))\n",
    "cont_model.add(Dense(1,kernel_initializer=\"normal\"))\n",
    "cont_model.compile(loss=\"mean_squared_error\",optimizer = \"adam\",metrics = [\"accuracy\"])\n",
    "\n",
    "first_model = cont_model\n",
    "first_model.fit(trainX,trainY,epochs=100,batch_size=10000)\n",
    "pred_train = first_model.predict(trainX)\n",
    "pred_train = pd.Series([i[0] for i in pred_train])\n",
    "pred_test = first_model.predict(testX)\n",
    "pred_test = pd.Series([i[0] for i in pred_test])\n"
   ]
  },
  {
   "cell_type": "markdown",
   "metadata": {},
   "source": [
    "Now as we have got ourselves a model with 99% accuracy we now tend to see the real values vs the predicted results from our model."
   ]
  },
  {
   "cell_type": "markdown",
   "metadata": {},
   "source": [
    "Below is a graph for train data where red dots are the predicted values and green dots are the actual result."
   ]
  },
  {
   "cell_type": "code",
   "execution_count": 40,
   "metadata": {},
   "outputs": [
    {
     "data": {
      "image/png": "[encoded data removed]",
      "text/plain": [
       "<Figure size 432x288 with 1 Axes>"
      ]
     },
     "metadata": {
      "needs_background": "light"
     },
     "output_type": "display_data"
    }
   ],
   "source": [
    "plt.scatter(range(114706),pred_train,c='r')\n",
    "plt.scatter(range(114706),trainY,c='g')\n",
    "plt.show()"
   ]
  },
  {
   "cell_type": "markdown",
   "metadata": {},
   "source": [
    "Similarly Below is a graph for test data where red dots are the predicted values and green dots are the actual result."
   ]
  },
  {
   "cell_type": "code",
   "execution_count": 44,
   "metadata": {},
   "outputs": [
    {
     "data": {
      "image/png": "[encoded data removed]",
      "text/plain": [
       "<Figure size 432x288 with 1 Axes>"
      ]
     },
     "metadata": {
      "needs_background": "light"
     },
     "output_type": "display_data"
    }
   ],
   "source": [
    "plt.scatter(range(29620),pred_test,c='r')\n",
    "plt.scatter(range(29620),testY,c='g')\n",
    "plt.show()"
   ]
  },
  {
   "cell_type": "markdown",
   "metadata": {},
   "source": [
    "Now forming the precision recall curve for the train data and getting the Precision and Recall Scores too."
   ]
  },
  {
   "cell_type": "code",
   "execution_count": 34,
   "metadata": {},
   "outputs": [
    {
     "data": {
      "image/png": "[encoded data removed]",
      "text/plain": [
       "<Figure size 432x288 with 1 Axes>"
      ]
     },
     "metadata": {
      "needs_background": "light"
     },
     "output_type": "display_data"
    },
    {
     "name": "stdout",
     "output_type": "stream",
     "text": [
      "0.9461562489008686\n",
      "0.7506565527520842\n"
     ]
    }
   ],
   "source": [
    "precision, recall, _ = precision_recall_curve(trainY, pred_train)\n",
    "plt.plot(recall, precision, marker='.', label='NN')\n",
    "plt.xlabel('Recall')\n",
    "plt.ylabel('Precision')\n",
    "plt.show()\n",
    "\n",
    "precision01 = precision_score(trainY, pred_train.round(),pos_label='positive',average='macro')\n",
    "print(precision111)\n",
    "recall01 = recall_score(trainY, pred_train.round(),pos_label='positive',average='macro')\n",
    "print(recall11)"
   ]
  },
  {
   "cell_type": "markdown",
   "metadata": {},
   "source": [
    "Now forming the precision recall curve for the test data and getting the Precision and Recall Scores too."
   ]
  },
  {
   "cell_type": "code",
   "execution_count": 37,
   "metadata": {},
   "outputs": [
    {
     "data": {
      "image/png": "[encoded data removed]",
      "text/plain": [
       "<Figure size 432x288 with 1 Axes>"
      ]
     },
     "metadata": {
      "needs_background": "light"
     },
     "output_type": "display_data"
    },
    {
     "name": "stdout",
     "output_type": "stream",
     "text": [
      "0.9095325476127594\n",
      "0.7197735706804531\n"
     ]
    }
   ],
   "source": [
    "precision, recall, _ = precision_recall_curve(testY, pred_test)\n",
    "plt.plot(recall, precision, marker='.', label='NN')\n",
    "plt.xlabel('Recall')\n",
    "plt.ylabel('Precision')\n",
    "plt.show()\n",
    "\n",
    "precision1 = precision_score(testY, pred_test.round(),pos_label='positive',average='macro')\n",
    "print(precision1)\n",
    "recall1 = recall_score(testY, pred_test.round(),pos_label='positive',average='macro')\n",
    "print(recall1)"
   ]
  },
  {
   "cell_type": "markdown",
   "metadata": {},
   "source": [
    "As we can see we are gettting a High Precison and Recall rates."
   ]
  },
  {
   "cell_type": "markdown",
   "metadata": {},
   "source": [
    "Also further attending the session2 of doubt clearing, I improved with my accuracy. Also tried to implement the model with LSTM and RNN but was not able to get satisfactry result as I was using the whole data for the same."
   ]
  },
  {
   "cell_type": "markdown",
   "metadata": {},
   "source": [
    "I found out that the data has unique values for each row when account_id and week_start_date were taken in count so I did not proceed with feature extraction process and when this data is run through K cross validation, PCA algorithm it gives 25 rows as a optimal measure to get 99.99 % accuracy, i.e. rejecting 37 features out of 62 which plays a important role in data.\n",
    "As the features were unknown It was not in the right justice to discard those features.\n",
    "\n",
    "Also I tried to select the data using unique account_id which yeilds 2690 account numbers,I trained my model using the same but this data is very less to give proper and accurate resukts to test set data when used to predict,\n",
    "Hence I used the whole data set and got some pretty good results.\n"
   ]
  },
  {
   "cell_type": "markdown",
   "metadata": {},
   "source": [
    "At last Thankyou It was a fun assignment to work on and Looking forward to hear from you !"
   ]
  },
  {
   "cell_type": "markdown",
   "metadata": {},
   "source": [
    "# Happy Dabbling !!"
   ]
  }
 ],
 "metadata": {
  "kernelspec": {
   "display_name": "Python 3",
   "language": "python",
   "name": "python3"
  },
  "language_info": {
   "codemirror_mode": {
    "name": "ipython",
    "version": 3
   },
   "file_extension": ".py",
   "mimetype": "text/x-python",
   "name": "python",
   "nbconvert_exporter": "python",
   "pygments_lexer": "ipython3",
   "version": "3.7.4"
  }
 },
 "nbformat": 4,
 "nbformat_minor": 2
}
